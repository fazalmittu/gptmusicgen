{
 "cells": [
  {
   "cell_type": "code",
   "execution_count": 1,
   "id": "cba7786e",
   "metadata": {},
   "outputs": [
    {
     "name": "stderr",
     "output_type": "stream",
     "text": [
      "C:\\Users\\coolf\\AppData\\Local\\Packages\\PythonSoftwareFoundation.Python.3.10_qbz5n2kfra8p0\\LocalCache\\local-packages\\Python310\\site-packages\\tqdm\\auto.py:22: TqdmWarning: IProgress not found. Please update jupyter and ipywidgets. See https://ipywidgets.readthedocs.io/en/stable/user_install.html\n",
      "  from .autonotebook import tqdm as notebook_tqdm\n"
     ]
    }
   ],
   "source": [
    "import pandas as pd\n",
    "from transformers import GPT2LMHeadModel, GPT2Tokenizer\n",
    "import numpy as np\n",
    "import random\n",
    "import torch\n",
    "from torch.utils.data import Dataset, DataLoader\n",
    "from transformers import GPT2Tokenizer, GPT2LMHeadModel, AdamW, get_linear_schedule_with_warmup\n",
    "from tqdm import tqdm, trange\n",
    "import torch.nn.functional as F\n",
    "import csv"
   ]
  },
  {
   "cell_type": "markdown",
   "id": "93f0adee",
   "metadata": {},
   "source": [
    "# Preprocess Dataset"
   ]
  },
  {
   "cell_type": "code",
   "execution_count": 2,
   "id": "34f220f7",
   "metadata": {},
   "outputs": [],
   "source": [
    "# only want to use english songs\n",
    "\n",
    "lyrics = pd.read_csv('lyrics-data.csv')\n",
    "lyrics = lyrics[lyrics['language']=='en']"
   ]
  },
  {
   "cell_type": "code",
   "execution_count": 4,
   "id": "98b78ed6",
   "metadata": {},
   "outputs": [],
   "source": [
    "# only want to keep rap songs\n",
    "\n",
    "artists = pd.read_csv('artists-data.csv')\n",
    "artists = artists[(artists['Genres'].isin(['Rap']))]\n",
    "music_df = lyrics.merge(artists[['Artist', 'Genres', 'Link']], left_on='ALink', right_on='Link', how='inner')\n",
    "music_df = music_df.drop(columns=['ALink','SLink','Link'])"
   ]
  },
  {
   "cell_type": "code",
   "execution_count": 5,
   "id": "8b7abdba",
   "metadata": {},
   "outputs": [
    {
     "data": {
      "text/html": [
       "<div>\n",
       "<style scoped>\n",
       "    .dataframe tbody tr th:only-of-type {\n",
       "        vertical-align: middle;\n",
       "    }\n",
       "\n",
       "    .dataframe tbody tr th {\n",
       "        vertical-align: top;\n",
       "    }\n",
       "\n",
       "    .dataframe thead th {\n",
       "        text-align: right;\n",
       "    }\n",
       "</style>\n",
       "<table border=\"1\" class=\"dataframe\">\n",
       "  <thead>\n",
       "    <tr style=\"text-align: right;\">\n",
       "      <th></th>\n",
       "      <th>SName</th>\n",
       "      <th>Lyric</th>\n",
       "      <th>language</th>\n",
       "      <th>Artist</th>\n",
       "      <th>Genres</th>\n",
       "    </tr>\n",
       "  </thead>\n",
       "  <tbody>\n",
       "    <tr>\n",
       "      <th>0</th>\n",
       "      <td>Killing Me Softly With His Song</td>\n",
       "      <td>Strumming my pain with his fingers\\nSinging my...</td>\n",
       "      <td>en</td>\n",
       "      <td>Fugees</td>\n",
       "      <td>Rap</td>\n",
       "    </tr>\n",
       "    <tr>\n",
       "      <th>1</th>\n",
       "      <td>How Many Mics</td>\n",
       "      <td>Intro: Wyclef Jean\\nPick up your microphones\\n...</td>\n",
       "      <td>en</td>\n",
       "      <td>Fugees</td>\n",
       "      <td>Rap</td>\n",
       "    </tr>\n",
       "    <tr>\n",
       "      <th>2</th>\n",
       "      <td>Ready Or Not</td>\n",
       "      <td>Ready or not, here I come, you can't hide\\nGon...</td>\n",
       "      <td>en</td>\n",
       "      <td>Fugees</td>\n",
       "      <td>Rap</td>\n",
       "    </tr>\n",
       "    <tr>\n",
       "      <th>3</th>\n",
       "      <td>Vocab (LP Version)</td>\n",
       "      <td>Chorus\\nYou got the vocab\\nI got the vocab\\nYo...</td>\n",
       "      <td>en</td>\n",
       "      <td>Fugees</td>\n",
       "      <td>Rap</td>\n",
       "    </tr>\n",
       "    <tr>\n",
       "      <th>4</th>\n",
       "      <td>Zealots</td>\n",
       "      <td>CLEF]\\nAnother MC lose his life tonight, lord\\...</td>\n",
       "      <td>en</td>\n",
       "      <td>Fugees</td>\n",
       "      <td>Rap</td>\n",
       "    </tr>\n",
       "  </tbody>\n",
       "</table>\n",
       "</div>"
      ],
      "text/plain": [
       "                             SName  \\\n",
       "0  Killing Me Softly With His Song   \n",
       "1                    How Many Mics   \n",
       "2                     Ready Or Not   \n",
       "3               Vocab (LP Version)   \n",
       "4                          Zealots   \n",
       "\n",
       "                                               Lyric language  Artist Genres  \n",
       "0  Strumming my pain with his fingers\\nSinging my...       en  Fugees    Rap  \n",
       "1  Intro: Wyclef Jean\\nPick up your microphones\\n...       en  Fugees    Rap  \n",
       "2  Ready or not, here I come, you can't hide\\nGon...       en  Fugees    Rap  \n",
       "3  Chorus\\nYou got the vocab\\nI got the vocab\\nYo...       en  Fugees    Rap  \n",
       "4  CLEF]\\nAnother MC lose his life tonight, lord\\...       en  Fugees    Rap  "
      ]
     },
     "execution_count": 5,
     "metadata": {},
     "output_type": "execute_result"
    }
   ],
   "source": [
    "music_df.head()"
   ]
  },
  {
   "cell_type": "code",
   "execution_count": 6,
   "id": "37dc855b",
   "metadata": {},
   "outputs": [
    {
     "data": {
      "text/plain": [
       "(2012, 5)"
      ]
     },
     "execution_count": 6,
     "metadata": {},
     "output_type": "execute_result"
    }
   ],
   "source": [
    "music_df.shape"
   ]
  },
  {
   "cell_type": "code",
   "execution_count": 7,
   "id": "17879231",
   "metadata": {},
   "outputs": [],
   "source": [
    "# want to remove songs that are too long; token limit\n",
    "\n",
    "music_df = music_df[music_df['Lyric'].apply(lambda x: len(x.split(' ')) < 350)]"
   ]
  },
  {
   "cell_type": "code",
   "execution_count": 8,
   "id": "2b7ee1fb",
   "metadata": {},
   "outputs": [
    {
     "data": {
      "text/plain": [
       "(517, 5)"
      ]
     },
     "execution_count": 8,
     "metadata": {},
     "output_type": "execute_result"
    }
   ],
   "source": [
    "music_df.shape"
   ]
  },
  {
   "cell_type": "code",
   "execution_count": 9,
   "id": "cfdb520f",
   "metadata": {},
   "outputs": [],
   "source": [
    "#Create a very small test set to compare generated text with the reality\n",
    "test_set = music_df.sample(n = 200)\n",
    "music_df = music_df.loc[~music_df.index.isin(test_set.index)]\n",
    "\n",
    "#Reset the indexes\n",
    "test_set = test_set.reset_index()\n",
    "music_df = music_df.reset_index()\n",
    "\n",
    "#For the test set only, keep last 20 words in a new column, then remove them from original column\n",
    "test_set['True_end_lyrics'] = test_set['Lyric'].str.split().str[-20:].apply(' '.join)\n",
    "test_set['Lyric'] = test_set['Lyric'].str.split().str[:-20].apply(' '.join)"
   ]
  },
  {
   "cell_type": "code",
   "execution_count": 13,
   "id": "04626e16",
   "metadata": {},
   "outputs": [],
   "source": [
    "test_set = test_set.drop(columns=[\"index\"])"
   ]
  },
  {
   "cell_type": "markdown",
   "id": "20bd4da8",
   "metadata": {},
   "source": [
    "# Tokenize Lyrics"
   ]
  },
  {
   "cell_type": "code",
   "execution_count": 29,
   "id": "751b12d1",
   "metadata": {},
   "outputs": [],
   "source": [
    "def tokenizer(df, truncate=False, gpt2_type=\"gpt2\", max_length=1024):\n",
    "\n",
    "    tokenizer = GPT2Tokenizer.from_pretrained(gpt2_type)\n",
    "    lyrics = []\n",
    "\n",
    "    for row in music_df['Lyric']:\n",
    "        lyrics.append(torch.tensor(\n",
    "            tokenizer.encode(f\"<|{df}|>{row[:max_length]}<|endoftext|>\")\n",
    "        ))  \n",
    "        \n",
    "    if truncate:\n",
    "        lyrics = lyrics[:20000]\n",
    "        \n",
    "    lyrics_count = len(lyrics)\n",
    "    \n",
    "    return lyrics"
   ]
  },
  {
   "cell_type": "code",
   "execution_count": 30,
   "id": "5f53d990",
   "metadata": {},
   "outputs": [],
   "source": [
    "tokenized_lyrics= tokenizer(music_df[\"Lyric\"], truncate=True, gpt2_type=\"gpt2\")"
   ]
  },
  {
   "cell_type": "raw",
   "id": "82c23b83",
   "metadata": {},
   "source": [
    "print(tokenized_df)"
   ]
  },
  {
   "cell_type": "code",
   "execution_count": null,
   "id": "4436035c",
   "metadata": {},
   "outputs": [],
   "source": []
  }
 ],
 "metadata": {
  "kernelspec": {
   "display_name": "Python 3 (ipykernel)",
   "language": "python",
   "name": "python3"
  },
  "language_info": {
   "codemirror_mode": {
    "name": "ipython",
    "version": 3
   },
   "file_extension": ".py",
   "mimetype": "text/x-python",
   "name": "python",
   "nbconvert_exporter": "python",
   "pygments_lexer": "ipython3",
   "version": "3.10.9"
  }
 },
 "nbformat": 4,
 "nbformat_minor": 5
}
